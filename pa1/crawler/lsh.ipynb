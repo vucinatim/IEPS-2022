{
 "cells": [
  {
   "cell_type": "code",
   "execution_count": 28,
   "metadata": {},
   "outputs": [],
   "source": [
    "from random import shuffle\n",
    "\n",
    "a = \"he shall not pass you to bring your sticks of bombs and pet armadillo along\"\n",
    "b = \"he will not allow you to bring your sticks of dynamite and pet armadillo along\""
   ]
  },
  {
   "cell_type": "code",
   "execution_count": 29,
   "metadata": {},
   "outputs": [],
   "source": [
    "def shingle(text: str, k: int):\n",
    "    shingle_set = []\n",
    "    for i in range(len(text) - k+1):\n",
    "        shingle_set.append(text[i:i+k])\n",
    "    return set(shingle_set)\n",
    "\n",
    "def create_hash_func(size: int):\n",
    "    # function for creating the hash vector/function\n",
    "    hash_ex = list(range(1, len(vocab)+1))\n",
    "    shuffle(hash_ex)\n",
    "    return hash_ex\n",
    "\n",
    "def build_minhash_func(vocab_size: int, nbits: int):\n",
    "    # function for building multiple minhash vectors\n",
    "    hashes = []\n",
    "    for _ in range(nbits):\n",
    "        hashes.append(create_hash_func(vocab_size))\n",
    "    return hashes\n",
    "\n",
    "def create_hash(vector: list, minhash_func: list):\n",
    "    # use this function for creating our signatures (eg the matching)\n",
    "    signature = []\n",
    "    for func in minhash_func:\n",
    "        for i in range(1, len(vocab)+1):\n",
    "            idx = func.index(i)\n",
    "            signature_val = vector[idx]\n",
    "            if signature_val == 1:\n",
    "                signature.append(idx)\n",
    "                break\n",
    "    return signature\n",
    "\n",
    "def jaccard(a: set, b: set):\n",
    "    return len(a.intersection(b)) / len(a.union(b))\n",
    "\n",
    "\n",
    "# ---- LSH ----\n",
    "def split_vector(signature, b):\n",
    "    assert len(signature) % b == 0\n",
    "    r = int(len(signature) / b)\n",
    "    # code splitting signature in b parts\n",
    "    subvecs = []\n",
    "    for i in range(0, len(signature), r):\n",
    "        subvecs.append(signature[i : i+r])\n",
    "    return subvecs"
   ]
  },
  {
   "cell_type": "code",
   "execution_count": 30,
   "metadata": {},
   "outputs": [],
   "source": [
    "k=10\n",
    "\n",
    "a_shingles = shingle(a, k)\n",
    "b_shingles = shingle(b, k)\n",
    "\n",
    "vocab = list(a_shingles.union(b_shingles))\n",
    "\n",
    "a_1hot = [1 if x in a_shingles else 0 for x in vocab]\n",
    "b_1hot = [1 if x in b_shingles else 0 for x in vocab]\n",
    "\n",
    "# we create 20 minhash vectors\n",
    "minhash_func = build_minhash_func(len(vocab), 20)\n",
    "\n",
    "a_sig = create_hash(a_1hot, minhash_func)\n",
    "b_sig = create_hash(b_1hot, minhash_func)\n",
    "\n"
   ]
  },
  {
   "cell_type": "code",
   "execution_count": 31,
   "metadata": {},
   "outputs": [
    {
     "name": "stdout",
     "output_type": "stream",
     "text": [
      "[[77, 21], [27, 67], [99, 18], [17, 43], [31, 62], [43, 13], [6, 6], [73, 59], [34, 36], [28, 36]]\n",
      "[[77, 21], [27, 49], [79, 18], [51, 44], [49, 62], [10, 26], [44, 6], [56, 69], [70, 36], [9, 36]]\n",
      "Candidate pair: [77, 21] == [77, 21]\n"
     ]
    }
   ],
   "source": [
    "band_a = split_vector(a_sig, 10)\n",
    "band_b = split_vector(b_sig, 10)\n",
    "\n",
    "print(band_a)\n",
    "print(band_b)\n",
    "\n",
    "for a_rows, b_rows in zip(band_a, band_b):\n",
    "    if a_rows == b_rows:\n",
    "        print(f\"Candidate pair: {a_rows} == {b_rows}\")\n",
    "        # we only need one band to match\n",
    "        break"
   ]
  }
 ],
 "metadata": {
  "interpreter": {
   "hash": "3f4d9d126035200785166326d2ba3f914caffc731a275fb2ea3b73f35dc5abc4"
  },
  "kernelspec": {
   "display_name": "Python 3.9.0 ('wier')",
   "language": "python",
   "name": "python3"
  },
  "language_info": {
   "codemirror_mode": {
    "name": "ipython",
    "version": 3
   },
   "file_extension": ".py",
   "mimetype": "text/x-python",
   "name": "python",
   "nbconvert_exporter": "python",
   "pygments_lexer": "ipython3",
   "version": "3.9.0"
  },
  "orig_nbformat": 4
 },
 "nbformat": 4,
 "nbformat_minor": 2
}
