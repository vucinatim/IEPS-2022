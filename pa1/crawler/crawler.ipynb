{
 "cells": [
  {
   "cell_type": "code",
   "execution_count": 1,
   "metadata": {},
   "outputs": [],
   "source": [
    "import time\n",
    "from selenium import webdriver\n",
    "from selenium.webdriver.chrome.options import Options\n",
    "import os\n",
    "from helper_functions import get_all_links, get_all_images, get_robots_data, write_file, append_file\n",
    "from urllib.parse import urlparse\n",
    "import urllib.robotparser as urobot\n",
    "from entities import Site, Page, Image\n",
    "from bs4 import BeautifulSoup\n",
    "import requests\n",
    "from datetime import datetime\n",
    "from selenium.common.exceptions import NoSuchElementException"
   ]
  },
  {
   "cell_type": "markdown",
   "metadata": {},
   "source": [
    "## Set Up Parameters"
   ]
  },
  {
   "cell_type": "code",
   "execution_count": 2,
   "metadata": {},
   "outputs": [],
   "source": [
    "\n",
    "# Selenium set up\n",
    "path = os.path.dirname(os.path.abspath(\"__file__\"))\n",
    "WEB_DRIVER_LOCATION = os.path.join(path, \"chromedriver\") # chromedriver.exe should be placed inside crawler folder\n",
    "USER_AGENT = \"fri-wier-jernejtim\"\n",
    "\n",
    "chrome_options = Options()\n",
    "chrome_options.add_argument(f\"user-agent={USER_AGENT}\")\n",
    "# chrome_options.add_argument(\"--headless\")\n",
    "\n",
    "# Crawler set up\n",
    "# FRONTIER_FILENAME = \"frontier.txt\"\n",
    "# CRAWLED_FILENAME = \"crawled.txt\"\n",
    "\n",
    "WEB_PAGE_ADDRESS = \"http://evem.gov.si\"\n",
    "SEED_URLS = [\"http://www.gov.si/\", \"http://evem.gov.si\", \"http://e-uprava.gov.si\", \"http://e-prostor.gov.si\"]\n",
    "\n",
    "TIMEOUT = 3\n",
    "\n",
    "BINARY_CONTENT = ['pdf', 'doc', 'docx', 'ppt', 'pptx']"
   ]
  },
  {
   "cell_type": "code",
   "execution_count": 3,
   "metadata": {},
   "outputs": [],
   "source": [
    "# if not os.path.isfile(FRONTIER_FILENAME):\n",
    "#     write_file(FRONTIER_FILENAME, SEED_URLS)\n",
    "\n",
    "# if not os.path.isfile(CRAWLED_FILENAME):\n",
    "#     write_file(CRAWLED_FILENAME, '')"
   ]
  },
  {
   "cell_type": "code",
   "execution_count": 4,
   "metadata": {},
   "outputs": [],
   "source": [
    "def get_robots_url(url):\n",
    "    domain_url = '{uri.scheme}://{uri.netloc}'.format(uri=urlparse(url))\n",
    "    robots_url = domain_url + '/robots.txt'\n",
    "    return robots_url\n",
    "\n",
    "def get_type_code(url):\n",
    "    if url.split('.')[-1] in BINARY_CONTENT:\n",
    "        return 'BINARY'\n",
    "    elif url in SEED_URLS:\n",
    "        return 'FRONTIER'\n",
    "    elif False:\n",
    "        return 'DUPLICATE' # TO-DO: Check if duplicate html content exists in DB\n",
    "    else:\n",
    "        return 'HTML'"
   ]
  },
  {
   "cell_type": "code",
   "execution_count": 5,
   "metadata": {},
   "outputs": [
    {
     "name": "stdout",
     "output_type": "stream",
     "text": [
      "Reading 'robots.txt' for domain 'www.gov.si'\n",
      "Retrieving web page URL 'http://www.gov.si/'\n",
      "Reading 'robots.txt' for domain 'evem.gov.si'\n",
      "Retrieving web page URL 'http://evem.gov.si'\n",
      "Reading 'robots.txt' for domain 'e-uprava.gov.si'\n",
      "Retrieving web page URL 'http://e-uprava.gov.si'\n",
      "Reading 'robots.txt' for domain 'e-prostor.gov.si'\n",
      "Retrieving web page URL 'http://e-prostor.gov.si'\n"
     ]
    }
   ],
   "source": [
    "frontier = SEED_URLS.copy()\n",
    "visited_sites = []\n",
    "\n",
    "# Using robot file parser for easier checking\n",
    "rp = urobot.RobotFileParser()\n",
    "\n",
    "driver = webdriver.Chrome(WEB_DRIVER_LOCATION, options=chrome_options)\n",
    "driver.implicitly_wait(TIMEOUT)\n",
    "\n",
    "sites = {}\n",
    "\n",
    "while frontier:\n",
    "    url = frontier.pop(0)\n",
    "    o = urlparse(url)\n",
    "\n",
    "    # If this is a new site \n",
    "    # -> read the robots.txt\n",
    "    # -> create a new site entry in dict\n",
    "    if o.hostname not in visited_sites:\n",
    "        print(f\"Reading 'robots.txt' for domain '{o.hostname}'\")\n",
    "        \n",
    "        robots_url = get_robots_url(url)\n",
    "        rp.set_url(robots_url)\n",
    "        rp.read()\n",
    "        site_maps = rp.site_maps()\n",
    "\n",
    "        robots_content, sitemap_content = get_robots_data(driver, robots_url, site_maps)\n",
    "\n",
    "        sites[o.hostname] = Site(o.hostname, robots_content, sitemap_content)\n",
    "\n",
    "        visited_sites.append(o.hostname)\n",
    "\n",
    "    if not rp.can_fetch(USER_AGENT, url):\n",
    "        print(f\"Prohibited access to URL '{url}'\")\n",
    "        continue\n",
    "\n",
    "    print(f\"Retrieving web page URL '{url}'\")\n",
    "    driver.get(url)\n",
    "\n",
    "    status_code = requests.get(url).status_code\n",
    "    type_code = get_type_code(url)\n",
    "    html_content = None if type_code == 'DUPLICATE' or type_code == 'BINARY' else driver.page_source\n",
    "    images = get_all_images(driver)\n",
    "    links = get_all_links(driver)\n",
    "    accessed_time = datetime.now().time()\n",
    "\n",
    "    page = Page(type_code, url, html_content, status_code, accessed_time, images, links)\n",
    "    curr_site:Site = sites[o.hostname]\n",
    "    curr_site.add_page(page)\n",
    "\n",
    "    # frontier.extend(links)\n",
    "\n",
    "driver.close()\n"
   ]
  },
  {
   "cell_type": "code",
   "execution_count": 6,
   "metadata": {},
   "outputs": [
    {
     "name": "stdout",
     "output_type": "stream",
     "text": [
      "{'www.gov.si': <entities.Site object at 0x00000279C4363550>, 'evem.gov.si': <entities.Site object at 0x00000279C4346310>, 'e-uprava.gov.si': <entities.Site object at 0x00000279C434F6D0>, 'e-prostor.gov.si': <entities.Site object at 0x00000279C43F76D0>}\n"
     ]
    }
   ],
   "source": [
    "print(sites)"
   ]
  }
 ],
 "metadata": {
  "interpreter": {
   "hash": "3f4d9d126035200785166326d2ba3f914caffc731a275fb2ea3b73f35dc5abc4"
  },
  "kernelspec": {
   "display_name": "Python 3.6.13 ('wier')",
   "language": "python",
   "name": "python3"
  },
  "language_info": {
   "codemirror_mode": {
    "name": "ipython",
    "version": 3
   },
   "file_extension": ".py",
   "mimetype": "text/x-python",
   "name": "python",
   "nbconvert_exporter": "python",
   "pygments_lexer": "ipython3",
   "version": "3.9.0"
  },
  "orig_nbformat": 4
 },
 "nbformat": 4,
 "nbformat_minor": 2
}
